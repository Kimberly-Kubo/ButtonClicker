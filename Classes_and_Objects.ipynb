{
  "nbformat": 4,
  "nbformat_minor": 0,
  "metadata": {
    "kernelspec": {
      "display_name": "Python 3",
      "language": "python",
      "name": "python3"
    },
    "language_info": {
      "codemirror_mode": {
        "name": "ipython",
        "version": 3
      },
      "file_extension": ".py",
      "mimetype": "text/x-python",
      "name": "python",
      "nbconvert_exporter": "python",
      "pygments_lexer": "ipython3",
      "version": "3.7.3"
    },
    "colab": {
      "name": "Classes and Objects.ipynb",
      "provenance": [],
      "include_colab_link": true
    }
  },
  "cells": [
    {
      "cell_type": "markdown",
      "metadata": {
        "id": "view-in-github",
        "colab_type": "text"
      },
      "source": [
        "<a href=\"https://colab.research.google.com/github/Kimberly-Kubo/ButtonClicker/blob/master/Classes_and_Objects.ipynb\" target=\"_parent\"><img src=\"https://colab.research.google.com/assets/colab-badge.svg\" alt=\"Open In Colab\"/></a>"
      ]
    },
    {
      "cell_type": "markdown",
      "metadata": {
        "id": "aJ_OzF72fU3f"
      },
      "source": [
        "## Classes and objects\n",
        "\n",
        "For more details on this topic, make sure to read [Think Python](https://greenteapress.com/thinkpython2/thinkpython2.pdf) chapter 15! (the examples in this notebook are taken from there)\n",
        "\n",
        "We start by creating a class with no further details…"
      ]
    },
    {
      "cell_type": "code",
      "metadata": {
        "id": "h4gYU8yCfU3i"
      },
      "source": [
        "class Point:\n",
        "    \"\"\"Represents a point in 2-D space.\"\"\""
      ],
      "execution_count": 1,
      "outputs": []
    },
    {
      "cell_type": "code",
      "metadata": {
        "id": "tzLiX_oqfU3k",
        "colab": {
          "base_uri": "https://localhost:8080/"
        },
        "outputId": "618427cd-b491-4831-9faf-19ec4851e193"
      },
      "source": [
        "Point"
      ],
      "execution_count": 2,
      "outputs": [
        {
          "output_type": "execute_result",
          "data": {
            "text/plain": [
              "__main__.Point"
            ]
          },
          "metadata": {},
          "execution_count": 2
        }
      ]
    },
    {
      "cell_type": "markdown",
      "metadata": {
        "id": "0Z-5uNFxfU3k"
      },
      "source": [
        "Creating a new object is called **instantiation**, and the *object* is an *instance* of the *class*. Compare how we can create a new string with `str()` and how we create a new Point with `Point()`.\n",
        "\n",
        "> Strings are special so they can also be created with the *literal* expression `''`—our custom classes don’t have that privilege so we always create them via their class names."
      ]
    },
    {
      "cell_type": "code",
      "metadata": {
        "colab": {
          "base_uri": "https://localhost:8080/",
          "height": 35
        },
        "id": "HpzgtJ8tfU3k",
        "outputId": "aef40eee-371a-43a9-b908-310a23fb1ee2"
      },
      "source": [
        "s = str()\n",
        "s"
      ],
      "execution_count": 3,
      "outputs": [
        {
          "output_type": "execute_result",
          "data": {
            "application/vnd.google.colaboratory.intrinsic+json": {
              "type": "string"
            },
            "text/plain": [
              "''"
            ]
          },
          "metadata": {},
          "execution_count": 3
        }
      ]
    },
    {
      "cell_type": "code",
      "metadata": {
        "id": "GKtGXWNEfU3k",
        "colab": {
          "base_uri": "https://localhost:8080/"
        },
        "outputId": "e8ba099b-03da-41de-f48a-5117acf72260"
      },
      "source": [
        "pt = Point()\n",
        "pt # value is a reference to a Point object"
      ],
      "execution_count": 4,
      "outputs": [
        {
          "output_type": "execute_result",
          "data": {
            "text/plain": [
              "<__main__.Point at 0x7f2b0761ac90>"
            ]
          },
          "metadata": {},
          "execution_count": 4
        }
      ]
    },
    {
      "cell_type": "code",
      "metadata": {
        "id": "5eVhK956fU3l",
        "colab": {
          "base_uri": "https://localhost:8080/"
        },
        "outputId": "ca82c833-d703-4e46-a30f-550d1a507736"
      },
      "source": [
        "type(pt)"
      ],
      "execution_count": 5,
      "outputs": [
        {
          "output_type": "execute_result",
          "data": {
            "text/plain": [
              "__main__.Point"
            ]
          },
          "metadata": {},
          "execution_count": 5
        }
      ]
    },
    {
      "cell_type": "markdown",
      "metadata": {
        "id": "WWGD8bl7fU3l"
      },
      "source": [
        "### Attributes\n",
        "\n",
        "Once created, objects can have *attributes* assigned to them."
      ]
    },
    {
      "cell_type": "code",
      "metadata": {
        "id": "rRg4WNvKfU3l"
      },
      "source": [
        "pt.x = 3.0\n",
        "pt.y = 4.0"
      ],
      "execution_count": 6,
      "outputs": []
    },
    {
      "cell_type": "code",
      "metadata": {
        "id": "Ag_D5XoqfU3m",
        "colab": {
          "base_uri": "https://localhost:8080/"
        },
        "outputId": "5caf4a59-1e35-48d3-e190-9211d7904205"
      },
      "source": [
        "pt.y"
      ],
      "execution_count": 7,
      "outputs": [
        {
          "output_type": "execute_result",
          "data": {
            "text/plain": [
              "4.0"
            ]
          },
          "metadata": {},
          "execution_count": 7
        }
      ]
    },
    {
      "cell_type": "code",
      "metadata": {
        "id": "xLwQbirefU3m",
        "colab": {
          "base_uri": "https://localhost:8080/"
        },
        "outputId": "f9796266-5382-4fb8-a49a-cb73020dbfcc"
      },
      "source": [
        "x = pt.x\n",
        "x"
      ],
      "execution_count": 8,
      "outputs": [
        {
          "output_type": "execute_result",
          "data": {
            "text/plain": [
              "3.0"
            ]
          },
          "metadata": {},
          "execution_count": 8
        }
      ]
    },
    {
      "cell_type": "markdown",
      "metadata": {
        "id": "n_OCc8L8fU3m"
      },
      "source": [
        "As always, we can use [PythonTutor](http://pythontutor.com/visualize.html#code=class%20Point%3A%0A%20%20%20%20%22%22%22Represents%20a%20point%20in%202-D%20space.%22%22%22%0A%0A%0Apt%20%3D%20Point%28%29%0A%0Apt.x%20%3D%203.0%0Apt.y%20%3D%204.0&cumulative=false&curInstr=0&heapPrimitives=nevernest&mode=display&origin=opt-frontend.js&py=3&rawInputLstJSON=%5B%5D&textReferences=false) to visualize what’s happening."
      ]
    },
    {
      "cell_type": "markdown",
      "metadata": {
        "id": "5cr-IIIOfU3m"
      },
      "source": [
        "### The `__init__` method\n",
        "\n",
        "For most classes, we know what attributes they will have in advance. We express those through the `__init__` method (known more generically as a *constructor*)."
      ]
    },
    {
      "cell_type": "code",
      "metadata": {
        "id": "Cn9ji3e0fU3m"
      },
      "source": [
        "class Point:\n",
        "    \"\"\"Represents a point in 2-D space.\"\"\"\n",
        "    \n",
        "    def __init__(self, x=0, y=0):\n",
        "        self.x = x\n",
        "        self.y = y"
      ],
      "execution_count": 9,
      "outputs": []
    },
    {
      "cell_type": "code",
      "metadata": {
        "id": "O6Tsv_SDfU3n",
        "colab": {
          "base_uri": "https://localhost:8080/"
        },
        "outputId": "754141be-3ff2-4585-8088-5b2b2c65c311"
      },
      "source": [
        "p = Point()\n",
        "p"
      ],
      "execution_count": 10,
      "outputs": [
        {
          "output_type": "execute_result",
          "data": {
            "text/plain": [
              "<__main__.Point at 0x7f2b07631e90>"
            ]
          },
          "metadata": {},
          "execution_count": 10
        }
      ]
    },
    {
      "cell_type": "code",
      "metadata": {
        "id": "6T-9gcrufU3n",
        "colab": {
          "base_uri": "https://localhost:8080/"
        },
        "outputId": "e8cb9438-ee57-4df7-917f-ad4189f66fc8"
      },
      "source": [
        "p.x"
      ],
      "execution_count": 11,
      "outputs": [
        {
          "output_type": "execute_result",
          "data": {
            "text/plain": [
              "0"
            ]
          },
          "metadata": {},
          "execution_count": 11
        }
      ]
    },
    {
      "cell_type": "code",
      "metadata": {
        "id": "R9Q2BykgfU3n",
        "colab": {
          "base_uri": "https://localhost:8080/"
        },
        "outputId": "a1c79578-d7d0-4c36-cd39-4a524b203320"
      },
      "source": [
        "p.y"
      ],
      "execution_count": 12,
      "outputs": [
        {
          "output_type": "execute_result",
          "data": {
            "text/plain": [
              "0"
            ]
          },
          "metadata": {},
          "execution_count": 12
        }
      ]
    },
    {
      "cell_type": "code",
      "metadata": {
        "id": "qgs9Qwn2fU3o"
      },
      "source": [
        "q = Point(4, 9)"
      ],
      "execution_count": null,
      "outputs": []
    },
    {
      "cell_type": "code",
      "metadata": {
        "id": "Z6HDIK68fU3o",
        "colab": {
          "base_uri": "https://localhost:8080/",
          "height": 162
        },
        "outputId": "c1a43b67-64e9-47cb-cdde-70a35b257ce4"
      },
      "source": [
        "q.x"
      ],
      "execution_count": 13,
      "outputs": [
        {
          "output_type": "error",
          "ename": "NameError",
          "evalue": "ignored",
          "traceback": [
            "\u001b[0;31m---------------------------------------------------------------------------\u001b[0m",
            "\u001b[0;31mNameError\u001b[0m                                 Traceback (most recent call last)",
            "\u001b[0;32m<ipython-input-13-fc95c5294c4e>\u001b[0m in \u001b[0;36m<module>\u001b[0;34m()\u001b[0m\n\u001b[0;32m----> 1\u001b[0;31m \u001b[0mq\u001b[0m\u001b[0;34m.\u001b[0m\u001b[0mx\u001b[0m\u001b[0;34m\u001b[0m\u001b[0;34m\u001b[0m\u001b[0m\n\u001b[0m",
            "\u001b[0;31mNameError\u001b[0m: name 'q' is not defined"
          ]
        }
      ]
    },
    {
      "cell_type": "code",
      "metadata": {
        "id": "VzziGxMUfU3o",
        "colab": {
          "base_uri": "https://localhost:8080/",
          "height": 162
        },
        "outputId": "82b5bb13-4bc8-437b-9da7-f1041531cc20"
      },
      "source": [
        "q.y"
      ],
      "execution_count": 14,
      "outputs": [
        {
          "output_type": "error",
          "ename": "NameError",
          "evalue": "ignored",
          "traceback": [
            "\u001b[0;31m---------------------------------------------------------------------------\u001b[0m",
            "\u001b[0;31mNameError\u001b[0m                                 Traceback (most recent call last)",
            "\u001b[0;32m<ipython-input-14-b0ba6710e83c>\u001b[0m in \u001b[0;36m<module>\u001b[0;34m()\u001b[0m\n\u001b[0;32m----> 1\u001b[0;31m \u001b[0mq\u001b[0m\u001b[0;34m.\u001b[0m\u001b[0my\u001b[0m\u001b[0;34m\u001b[0m\u001b[0;34m\u001b[0m\u001b[0m\n\u001b[0m",
            "\u001b[0;31mNameError\u001b[0m: name 'q' is not defined"
          ]
        }
      ]
    },
    {
      "cell_type": "markdown",
      "metadata": {
        "id": "jqA_HnRlfU3o"
      },
      "source": [
        "### The `__str__` method\n",
        "\n",
        "We can print any built-in data type in Python, and so it would be nice to also print our custom objects. The `__str__` method lets us do that."
      ]
    },
    {
      "cell_type": "code",
      "metadata": {
        "id": "QLj94Ow8fU3o"
      },
      "source": [
        "class Point:\n",
        "    \"\"\"Represents a point in 2-D space.\"\"\"\n",
        "    \n",
        "    def __init__(self, x=0, y=0):\n",
        "        self.x = x\n",
        "        self.y = y\n",
        "        \n",
        "    def __str__(self):\n",
        "        # Introducing...the formatted string!\n",
        "        return f'({self.x}, {self.y})'"
      ],
      "execution_count": 15,
      "outputs": []
    },
    {
      "cell_type": "markdown",
      "metadata": {
        "id": "ztAcNykuhn_v"
      },
      "source": [
        "Note the difference between just displaying an object vs. printing it."
      ]
    },
    {
      "cell_type": "code",
      "metadata": {
        "colab": {
          "base_uri": "https://localhost:8080/"
        },
        "id": "4DyK984yfU3p",
        "outputId": "5be4dbe3-4d67-4bac-9131-5aba7830110a"
      },
      "source": [
        "p = Point()\n",
        "p"
      ],
      "execution_count": 16,
      "outputs": [
        {
          "output_type": "execute_result",
          "data": {
            "text/plain": [
              "<__main__.Point at 0x7f2b07631b10>"
            ]
          },
          "metadata": {},
          "execution_count": 16
        }
      ]
    },
    {
      "cell_type": "code",
      "metadata": {
        "colab": {
          "base_uri": "https://localhost:8080/"
        },
        "id": "s1QwED8gfU3p",
        "outputId": "f3811a8c-0fbc-4978-c4e7-66fd49739f78"
      },
      "source": [
        "print(p)"
      ],
      "execution_count": 17,
      "outputs": [
        {
          "output_type": "stream",
          "name": "stdout",
          "text": [
            "(0, 0)\n"
          ]
        }
      ]
    },
    {
      "cell_type": "markdown",
      "metadata": {
        "id": "79_rg2OVfU3p"
      },
      "source": [
        "### Our own methods\n",
        "\n",
        "`__init__` and `__str__` are so named to indicate that they have specific meanings in Python. All other methods can be named like any other function."
      ]
    },
    {
      "cell_type": "code",
      "metadata": {
        "id": "G2XHhUiFfU3p"
      },
      "source": [
        "import math\n",
        "\n",
        "class Point:\n",
        "    \"\"\"Represents a point in 2-D space.\"\"\"\n",
        "    \n",
        "    def __init__(self, x=0, y=0):\n",
        "        self.x = x\n",
        "        self.y = y\n",
        "        \n",
        "    def __str__(self):\n",
        "        return f'({self.x}, {self.y})'\n",
        "    \n",
        "    def distance(self):\n",
        "        return math.sqrt(self.x**2 + self.y**2)"
      ],
      "execution_count": 18,
      "outputs": []
    },
    {
      "cell_type": "code",
      "metadata": {
        "id": "xCmzkneofU3p"
      },
      "source": [
        "p = Point(3, 4)"
      ],
      "execution_count": 19,
      "outputs": []
    },
    {
      "cell_type": "code",
      "metadata": {
        "colab": {
          "base_uri": "https://localhost:8080/"
        },
        "id": "Tyk0x6dYfU3q",
        "outputId": "bb69b67d-171a-44c8-a6e7-e2ca52753508"
      },
      "source": [
        "p.distance()"
      ],
      "execution_count": 20,
      "outputs": [
        {
          "output_type": "execute_result",
          "data": {
            "text/plain": [
              "5.0"
            ]
          },
          "metadata": {},
          "execution_count": 20
        }
      ]
    },
    {
      "cell_type": "markdown",
      "metadata": {
        "id": "T04IDsEWfU3q"
      },
      "source": [
        "### Class Practice\n",
        "\n",
        "Write a class that represents a bank account. First decide what the attributes of a bank account would be, and what functionality an account has, and what effect that functionality has on the attributes of that account.\n",
        "\n",
        "Create instances of accounts and see if your account attributes and methods represent the functionality of accounts."
      ]
    },
    {
      "cell_type": "code",
      "metadata": {
        "id": "dTfeoQZCfU3q",
        "colab": {
          "base_uri": "https://localhost:8080/"
        },
        "outputId": "5b66ea1b-df13-4a7f-a043-490a76e9b4f9"
      },
      "source": [
        "from datetime import date\n",
        "\n",
        "class Bank_Account:\n",
        "  def __init__(self, user, balance, date_created):\n",
        "    self.user = user\n",
        "    self.balance = balance\n",
        "    self.date_created = date_created\n",
        "  def deposit(self, amount):\n",
        "    self.balance += amount\n",
        "  def withdraw(self, amount):\n",
        "    self.balance -= amount\n",
        "  def __str__(self):\n",
        "    return f'User: {self.user}, Balance: ${self.balance}, Created: {self.date_created}'\n",
        "\n",
        "acc1 = Bank_Account('A', 100, date.today())\n",
        "print(acc1)\n",
        "acc1.deposit(150)\n",
        "print(acc1)"
      ],
      "execution_count": 31,
      "outputs": [
        {
          "output_type": "stream",
          "name": "stdout",
          "text": [
            "User: A, Balance: $100, Created: 2021-11-04\n",
            "User: A, Balance: $250, Created: 2021-11-04\n"
          ]
        }
      ]
    }
  ]
}